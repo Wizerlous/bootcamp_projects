{
 "cells": [
  {
   "cell_type": "markdown",
   "id": "3ef3362f-96a8-4b92-8d5c-4d09ea6bfa00",
   "metadata": {
    "tags": []
   },
   "source": [
    "# Rock Scissors Paper Python"
   ]
  },
  {
   "cell_type": "code",
   "execution_count": 32,
   "id": "6bb0b531-1715-42dd-ba9c-5b8fa034d795",
   "metadata": {},
   "outputs": [
    {
     "name": "stdin",
     "output_type": "stream",
     "text": [
      "Enter a choice (rock, paper, scissors):  d\n"
     ]
    },
    {
     "name": "stdout",
     "output_type": "stream",
     "text": [
      "\n",
      "You chose d, computer chose paper.\n",
      "\n"
     ]
    }
   ],
   "source": [
    "import random\n",
    "user_action = input(\"Enter a choice (rock, paper, scissors): \")\n",
    "possible_actions = [\"rock\", \"paper\", \"scissors\"]\n",
    "computer_action = random.choice(possible_actions)\n",
    "print(f\"\\nYou chose {user_action}, computer chose {computer_action}.\\n\")\n",
    "if user_action == computer_action:\n",
    "    print(f\"Both players selected {user_action}. It's a tie!\")\n",
    "elif user_action == \"rock\":\n",
    "    if computer_action == \"scissors\":\n",
    "        print(\"Rock smashes scissors! You win!\")\n",
    "    else:\n",
    "        print(\"Paper covers rock! You lose.\")\n",
    "elif user_action == \"paper\":\n",
    "    if computer_action == \"rock\":\n",
    "        print(\"Paper covers rock! You win!\")\n",
    "    else:\n",
    "        print(\"Scissors cuts paper! You lose.\")\n",
    "elif user_action == \"scissors\":\n",
    "    if computer_action == \"paper\":\n",
    "        print(\"Scissors cuts paper! You win!\")\n",
    "    else:\n",
    "        print(\"Rock smashes scissors! You lose.\")"
   ]
  },
  {
   "cell_type": "markdown",
   "id": "9770030f-07ee-4735-9227-c038e7d07640",
   "metadata": {},
   "source": [
    "# ATM class"
   ]
  },
  {
   "cell_type": "code",
   "execution_count": 35,
   "id": "4e5154ca-9734-4ef1-9132-8752a69ab238",
   "metadata": {},
   "outputs": [],
   "source": [
    "class ATM :\n",
    "    # double underscore => dunder\n",
    "    def __init__(self,name,balance):\n",
    "        self.name =name\n",
    "        self.balance = balance\n",
    "    def check_balance(self) :\n",
    "        message = f\"Account : {self.name}, Blance : {self.balance}\"\n",
    "        print(message)\n",
    "    def deposit(self,money) :\n",
    "        self.balance += money\n",
    "        print(f\"New Balance : {self.balance}\")\n",
    "        print(\"Deposite successfully\")\n",
    "    def change_name(self,new_acc_name):\n",
    "        self.name = new_acc_name\n",
    "        print(f\"New Name: {self.name}\")\n",
    "        print(\"Your account name has been changed.\")\n",
    "    def withdraw(self,money) :\n",
    "        self.balance -= money\n",
    "        print(f\"New Balance : {self.balance}\")\n",
    "        print(\"Withdraw successfully\")"
   ]
  },
  {
   "cell_type": "code",
   "execution_count": 37,
   "id": "15653b48-068f-4102-8cac-17a5934fd804",
   "metadata": {},
   "outputs": [],
   "source": [
    "ttb = ATM(\"turk\",1500)"
   ]
  },
  {
   "cell_type": "code",
   "execution_count": 40,
   "id": "c5472a96-8b2d-415c-a088-3666ce190d86",
   "metadata": {},
   "outputs": [
    {
     "name": "stdout",
     "output_type": "stream",
     "text": [
      "Account : turk, Blance : 1500\n"
     ]
    }
   ],
   "source": [
    "ttb.check_balance()"
   ]
  },
  {
   "cell_type": "code",
   "execution_count": 42,
   "id": "ed05f31c-8600-427d-b0ce-a7796a5951d1",
   "metadata": {},
   "outputs": [
    {
     "name": "stdout",
     "output_type": "stream",
     "text": [
      "New Balance : 2460\n",
      "Deposite successfully\n"
     ]
    }
   ],
   "source": [
    "ttb.deposit(960)"
   ]
  },
  {
   "cell_type": "code",
   "execution_count": 43,
   "id": "be05bc49-bfc6-4558-bd8d-5473af9019b9",
   "metadata": {},
   "outputs": [
    {
     "name": "stdout",
     "output_type": "stream",
     "text": [
      "New Balance : 2400\n",
      "Withdraw successfully\n"
     ]
    }
   ],
   "source": [
    "ttb.withdraw(60)"
   ]
  }
 ],
 "metadata": {
  "kernelspec": {
   "display_name": "Python 3 (ipykernel)",
   "language": "python",
   "name": "python3"
  },
  "language_info": {
   "codemirror_mode": {
    "name": "ipython",
    "version": 3
   },
   "file_extension": ".py",
   "mimetype": "text/x-python",
   "name": "python",
   "nbconvert_exporter": "python",
   "pygments_lexer": "ipython3",
   "version": "3.10.6"
  }
 },
 "nbformat": 4,
 "nbformat_minor": 5
}
